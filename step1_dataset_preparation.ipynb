{
 "cells": [
  {
   "cell_type": "code",
   "execution_count": 20,
   "id": "8f7084b6-79a5-42eb-a6e9-ae997b35ef56",
   "metadata": {},
   "outputs": [
    {
     "data": {
      "image/png": "[encoded data removed]",
      "text/plain": [
       "<Figure size 640x400 with 1 Axes>"
      ]
     },
     "metadata": {},
     "output_type": "display_data"
    }
   ],
   "source": [
    "import matplotlib.pyplot as plt\n",
    "import numpy as np\n",
    "import cv2\n",
    "import os\n",
    "\n",
    "def JAFFE_DataLoader():\n",
    "    path = \"./jaffedbase/jaffedbase/\"\n",
    "    \n",
    "    file_list = os.listdir(path)\n",
    "    file_list_tiff = [file for file in file_list if file.endswith(\".tiff\")]\n",
    "\n",
    "    x, y, pid = [], [], []\n",
    "    for file_name in file_list_tiff:\n",
    "        img = cv2.imread(os.path.join(path, file_name), cv2.IMREAD_GRAYSCALE)\n",
    "        x.append(img)\n",
    "        y.append(file_name[3:5])\n",
    "        pid.append(file_name[0:2])  # Person ID\n",
    "\n",
    "    return x, y, pid\n",
    "    \n",
    "\n",
    "def FaceDetection(img_list):\n",
    "    classifier = cv2.CascadeClassifier(\"haarcascade_frontalface_default.xml\")\n",
    "    if classifier.empty():\n",
    "        print(\"XML load failed!\")\n",
    "        return\n",
    "\n",
    "    face_list = []\n",
    "    for img in img_list:\n",
    "        faces = classifier.detectMultiScale(img)\n",
    "        x, y, w, h = faces[0]\n",
    "        face = img[y:(y + h), x:(x + w)]  # square box\n",
    "        face = cv2.resize(src=face, dsize=(48, 48), interpolation=cv2.INTER_LINEAR)\n",
    "        face_list.append(face)\n",
    "        \n",
    "    return face_list\n",
    "\n",
    "\n",
    "def VisualizeCounts(y):\n",
    "    names, cnt = np.unique(y, return_counts=True)\n",
    "    \n",
    "    plt.figure()\n",
    "    bar = plt.bar(range(0, len(names), 1), cnt, \\\n",
    "                  color=[\"red\", \"orange\", \"gold\", \"green\", \"blue\", \"purple\", \"black\"])\n",
    "\n",
    "    for rect in bar:\n",
    "        height = rect.get_height()\n",
    "        plt.text(rect.get_x() + rect.get_width() / 2.0, height, \\\n",
    "                 f'{height:d}', ha=\"center\", va=\"bottom\")\n",
    "    \n",
    "    plt.xticks(range(0, len(names), 1), names)\n",
    "    plt.xlabel(\"Emotion\")\n",
    "    plt.ylabel(\"Count\")\n",
    "    plt.grid()\n",
    "    plt.show()\n",
    "    \n",
    "\n",
    "if __name__ == \"__main__\":\n",
    "    x, y, pid = JAFFE_DataLoader()\n",
    "    x = FaceDetection(x)\n",
    "    \n",
    "    np.savez_compressed(\"jaffe.npz\", x=x, y=y, pid=pid)\n",
    "\n",
    "    data = np.load(\"jaffe.npz\")\n",
    "    x = data['x']\n",
    "    y = data['y']\n",
    "\n",
    "    VisualizeCounts(y)"
   ]
  }
 ],
 "metadata": {
  "kernelspec": {
   "display_name": "Python [conda env:base] *",
   "language": "python",
   "name": "conda-base-py"
  },
  "language_info": {
   "codemirror_mode": {
    "name": "ipython",
    "version": 3
   },
   "file_extension": ".py",
   "mimetype": "text/x-python",
   "name": "python",
   "nbconvert_exporter": "python",
   "pygments_lexer": "ipython3",
   "version": "3.11.11"
  }
 },
 "nbformat": 4,
 "nbformat_minor": 5
}
